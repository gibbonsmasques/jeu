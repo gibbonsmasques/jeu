{
 "cells": [
  {
   "cell_type": "markdown",
   "metadata": {
    "deletable": true,
    "editable": true
   },
   "source": [
    "# Le jeu des gibbons\n",
    "\n",
    "**Félicitations** cher gibbon ! Si tu es ici, c'est que ton esprit d'enquêteur et *ta persévérance* sont bien présents !\n",
    "\n",
    "## L'union fait la force\n",
    "\n",
    "Pour cette épreuve, tu devras rassembler des mots de passe à l'aide des autres gibbons. Une fois assez de mot de passe rassemblés, *tu obtiendras un indice vers l'épreuve suivante*.\n",
    "\n",
    "## Comment ça marche ?\n",
    "\n",
    "- Rassemble les mots de passe dans une liste, *par exemple*, les mots de passe \"chaussette\" et \"tartufle\" donnent la liste \n",
    "    \n",
    "        [\"chaussette\", \"tartufle\"]\n",
    "    \n",
    "- il est **important** de placer les mots entre crochets `[` et `]` et qu'ils soient séparés par des virgules `,`\n",
    "- l'ordre des mots de passe **n'a aucune importance**\n",
    "- une fois les mots de passe rassemblés, il suffit de demander le prochain indice, en écrivant dans la case juste en dessous\n",
    "\n",
    "        indice([\"chaussette\", \"tartufle\"])\n",
    "  \n",
    "- pour valider son essai, il faut appuyer sur `CTRL + ENTER`\n",
    " \n",
    "## Important\n",
    "\n",
    "- Pour des raisons technique, il faut aussi valider la première case, celle contenant \n",
    "\n",
    "        from jeu import *"
   ]
  },
  {
   "cell_type": "code",
   "execution_count": null,
   "metadata": {
    "collapsed": false,
    "deletable": true,
    "editable": true
   },
   "outputs": [],
   "source": [
    "from jeu import *"
   ]
  },
  {
   "cell_type": "code",
   "execution_count": null,
   "metadata": {
    "collapsed": false,
    "deletable": true,
    "editable": true
   },
   "outputs": [],
   "source": [
    "indice([\"chaussette\", \"tartufle\"])"
   ]
  }
 ],
 "metadata": {
  "kernelspec": {
   "display_name": "SageMath 8.1",
   "language": "",
   "name": "sagemath"
  },
  "language_info": {
   "codemirror_mode": {
    "name": "ipython",
    "version": 2
   },
   "file_extension": ".py",
   "mimetype": "text/x-python",
   "name": "python",
   "nbconvert_exporter": "python",
   "pygments_lexer": "ipython2",
   "version": "2.7.14"
  }
 },
 "nbformat": 4,
 "nbformat_minor": 2
}
